{
 "cells": [
  {
   "cell_type": "code",
   "execution_count": 15,
   "metadata": {},
   "outputs": [],
   "source": [
    "import numpy as np\n",
    "import pandas as pd\n",
    "import matplotlib.pyplot as plt\n",
    "import scipy.signal as scs\n",
    "import scipy.linalg as spla\n",
    "\n",
    "import koma.oma\n",
    "import koma.plot\n",
    "import koma.clustering"
   ]
  },
  {
   "cell_type": "code",
   "execution_count": 16,
   "metadata": {},
   "outputs": [],
   "source": [
    "parquet_file = r'./data/data_synced.parquet'\n",
    "df = pd.read_parquet(parquet_file)\n",
    "\n",
    "df_filtered = df.drop(['T1E_x', 'T1E_y', 'T1E_z'], axis=1)\n",
    "df_filtered = df_filtered.drop(df.index[0:16*9*3600+30000])\n",
    "df_filtered = df_filtered.drop(df.index[-1])\n",
    "df_filtered = df_filtered.drop(df.index[16*10*3600:-1])\n",
    "\n",
    "acceleration_data = df_filtered.to_numpy()\n",
    "\n",
    "fs = 16\n",
    "t = np.arange(0, len(acceleration_data))\n",
    "\n",
    "acceleration_data = scs.detrend(acceleration_data, axis=0)"
   ]
  },
  {
   "cell_type": "code",
   "execution_count": 17,
   "metadata": {},
   "outputs": [],
   "source": [
    "nperseg = 1000\n",
    "zp = 8\n",
    "nfft =  nperseg * zp\n",
    "\n",
    "Sxy = np.array([[scs.csd(ch1, ch2, fs, nperseg=nperseg, nfft=nfft)[1] \n",
    "               for ch1 in acceleration_data.T] for ch2 in acceleration_data.T])\n",
    "\n",
    "S = np.trace(Sxy)\n",
    "\n",
    "f, _ = scs.welch(acceleration_data[:,0], fs=16, nperseg=1000, nfft=1000*8)"
   ]
  },
  {
   "cell_type": "code",
   "execution_count": 18,
   "metadata": {},
   "outputs": [],
   "source": [
    "i = 200\n",
    "order = np.arange(2, 62, 2)\n",
    "\n",
    "stabcrit = {'freq':0.05, 'damping':0.2, 'mac':0.1}\n",
    "s = 2\n",
    "valid_range = {'freq':[0, np.inf], 'damping':[0, 0.3], 'mpc':[0.4, 1]}\n",
    "\n",
    "fs = 16"
   ]
  },
  {
   "cell_type": "code",
   "execution_count": 19,
   "metadata": {},
   "outputs": [
    {
     "name": "stdout",
     "output_type": "stream",
     "text": [
      "*** Covariance-driven SSI algorithm for OMA ***\n",
      "> Establishing Hankel/Toeplitz matrices\n",
      "  >> Correlation estimation\n",
      "  >> Matrix stacking\n",
      "> Establishing weighting matrices\n",
      "  >> Weighting requested: NONE\n",
      "> Computing SVD\n",
      "> Computing state matrix for each order to establish modes\n",
      "> Computation completed\n"
     ]
    },
    {
     "name": "stderr",
     "output_type": "stream",
     "text": [
      "c:\\Users\\marku\\anaconda3\\Lib\\site-packages\\koma\\modal.py:272: RuntimeWarning:\n",
      "\n",
      "divide by zero encountered in scalar divide\n",
      "\n",
      "c:\\Users\\marku\\anaconda3\\Lib\\site-packages\\koma\\modal.py:274: RuntimeWarning:\n",
      "\n",
      "invalid value encountered in scalar multiply\n",
      "\n",
      "c:\\Users\\marku\\anaconda3\\Lib\\site-packages\\koma\\modal.py:275: RuntimeWarning:\n",
      "\n",
      "invalid value encountered in scalar multiply\n",
      "\n"
     ]
    }
   ],
   "source": [
    "lambd, phi, orders = koma.oma.covssi(acceleration_data, fs, i, order, return_flat=True)\n",
    "lambd_stab, phi_stab, orders_stab, ix_stab = koma.oma.find_stable_poles(lambd, phi, orders, s, stabcrit=stabcrit, valid_range=valid_range, indicator='freq', use_legacy=False)"
   ]
  },
  {
   "cell_type": "code",
   "execution_count": 21,
   "metadata": {},
   "outputs": [
    {
     "ename": "ValueError",
     "evalue": "Can't clean for JSON: (1.0976048149072379e-05+0j)",
     "output_type": "error",
     "traceback": [
      "\u001b[1;31m---------------------------------------------------------------------------\u001b[0m",
      "\u001b[1;31mTypeError\u001b[0m                                 Traceback (most recent call last)",
      "File \u001b[1;32mc:\\Users\\marku\\anaconda3\\Lib\\site-packages\\jupyter_client\\session.py:99\u001b[0m, in \u001b[0;36mjson_packer\u001b[1;34m(obj)\u001b[0m\n\u001b[0;32m     98\u001b[0m \u001b[38;5;28;01mtry\u001b[39;00m:\n\u001b[1;32m---> 99\u001b[0m     \u001b[38;5;28;01mreturn\u001b[39;00m json\u001b[38;5;241m.\u001b[39mdumps(\n\u001b[0;32m    100\u001b[0m         obj,\n\u001b[0;32m    101\u001b[0m         default\u001b[38;5;241m=\u001b[39mjson_default,\n\u001b[0;32m    102\u001b[0m         ensure_ascii\u001b[38;5;241m=\u001b[39m\u001b[38;5;28;01mFalse\u001b[39;00m,\n\u001b[0;32m    103\u001b[0m         allow_nan\u001b[38;5;241m=\u001b[39m\u001b[38;5;28;01mFalse\u001b[39;00m,\n\u001b[0;32m    104\u001b[0m     )\u001b[38;5;241m.\u001b[39mencode(\u001b[38;5;124m\"\u001b[39m\u001b[38;5;124mutf8\u001b[39m\u001b[38;5;124m\"\u001b[39m, errors\u001b[38;5;241m=\u001b[39m\u001b[38;5;124m\"\u001b[39m\u001b[38;5;124msurrogateescape\u001b[39m\u001b[38;5;124m\"\u001b[39m)\n\u001b[0;32m    105\u001b[0m \u001b[38;5;28;01mexcept\u001b[39;00m (\u001b[38;5;167;01mTypeError\u001b[39;00m, \u001b[38;5;167;01mValueError\u001b[39;00m) \u001b[38;5;28;01mas\u001b[39;00m e:\n\u001b[0;32m    106\u001b[0m     \u001b[38;5;66;03m# Fallback to trying to clean the json before serializing\u001b[39;00m\n",
      "File \u001b[1;32mc:\\Users\\marku\\anaconda3\\Lib\\json\\__init__.py:238\u001b[0m, in \u001b[0;36mdumps\u001b[1;34m(obj, skipkeys, ensure_ascii, check_circular, allow_nan, cls, indent, separators, default, sort_keys, **kw)\u001b[0m\n\u001b[0;32m    233\u001b[0m     \u001b[38;5;28mcls\u001b[39m \u001b[38;5;241m=\u001b[39m JSONEncoder\n\u001b[0;32m    234\u001b[0m \u001b[38;5;28;01mreturn\u001b[39;00m \u001b[38;5;28mcls\u001b[39m(\n\u001b[0;32m    235\u001b[0m     skipkeys\u001b[38;5;241m=\u001b[39mskipkeys, ensure_ascii\u001b[38;5;241m=\u001b[39mensure_ascii,\n\u001b[0;32m    236\u001b[0m     check_circular\u001b[38;5;241m=\u001b[39mcheck_circular, allow_nan\u001b[38;5;241m=\u001b[39mallow_nan, indent\u001b[38;5;241m=\u001b[39mindent,\n\u001b[0;32m    237\u001b[0m     separators\u001b[38;5;241m=\u001b[39mseparators, default\u001b[38;5;241m=\u001b[39mdefault, sort_keys\u001b[38;5;241m=\u001b[39msort_keys,\n\u001b[1;32m--> 238\u001b[0m     \u001b[38;5;241m*\u001b[39m\u001b[38;5;241m*\u001b[39mkw)\u001b[38;5;241m.\u001b[39mencode(obj)\n",
      "File \u001b[1;32mc:\\Users\\marku\\anaconda3\\Lib\\json\\encoder.py:200\u001b[0m, in \u001b[0;36mJSONEncoder.encode\u001b[1;34m(self, o)\u001b[0m\n\u001b[0;32m    197\u001b[0m \u001b[38;5;66;03m# This doesn't pass the iterator directly to ''.join() because the\u001b[39;00m\n\u001b[0;32m    198\u001b[0m \u001b[38;5;66;03m# exceptions aren't as detailed.  The list call should be roughly\u001b[39;00m\n\u001b[0;32m    199\u001b[0m \u001b[38;5;66;03m# equivalent to the PySequence_Fast that ''.join() would do.\u001b[39;00m\n\u001b[1;32m--> 200\u001b[0m chunks \u001b[38;5;241m=\u001b[39m \u001b[38;5;28mself\u001b[39m\u001b[38;5;241m.\u001b[39miterencode(o, _one_shot\u001b[38;5;241m=\u001b[39m\u001b[38;5;28;01mTrue\u001b[39;00m)\n\u001b[0;32m    201\u001b[0m \u001b[38;5;28;01mif\u001b[39;00m \u001b[38;5;129;01mnot\u001b[39;00m \u001b[38;5;28misinstance\u001b[39m(chunks, (\u001b[38;5;28mlist\u001b[39m, \u001b[38;5;28mtuple\u001b[39m)):\n",
      "File \u001b[1;32mc:\\Users\\marku\\anaconda3\\Lib\\json\\encoder.py:258\u001b[0m, in \u001b[0;36mJSONEncoder.iterencode\u001b[1;34m(self, o, _one_shot)\u001b[0m\n\u001b[0;32m    254\u001b[0m     _iterencode \u001b[38;5;241m=\u001b[39m _make_iterencode(\n\u001b[0;32m    255\u001b[0m         markers, \u001b[38;5;28mself\u001b[39m\u001b[38;5;241m.\u001b[39mdefault, _encoder, \u001b[38;5;28mself\u001b[39m\u001b[38;5;241m.\u001b[39mindent, floatstr,\n\u001b[0;32m    256\u001b[0m         \u001b[38;5;28mself\u001b[39m\u001b[38;5;241m.\u001b[39mkey_separator, \u001b[38;5;28mself\u001b[39m\u001b[38;5;241m.\u001b[39mitem_separator, \u001b[38;5;28mself\u001b[39m\u001b[38;5;241m.\u001b[39msort_keys,\n\u001b[0;32m    257\u001b[0m         \u001b[38;5;28mself\u001b[39m\u001b[38;5;241m.\u001b[39mskipkeys, _one_shot)\n\u001b[1;32m--> 258\u001b[0m \u001b[38;5;28;01mreturn\u001b[39;00m _iterencode(o, \u001b[38;5;241m0\u001b[39m)\n",
      "File \u001b[1;32mc:\\Users\\marku\\anaconda3\\Lib\\site-packages\\jupyter_client\\jsonutil.py:126\u001b[0m, in \u001b[0;36mjson_default\u001b[1;34m(obj)\u001b[0m\n\u001b[0;32m    124\u001b[0m     \u001b[38;5;28;01mreturn\u001b[39;00m \u001b[38;5;28mfloat\u001b[39m(obj)\n\u001b[1;32m--> 126\u001b[0m \u001b[38;5;28;01mraise\u001b[39;00m \u001b[38;5;167;01mTypeError\u001b[39;00m(\u001b[38;5;124m\"\u001b[39m\u001b[38;5;132;01m%r\u001b[39;00m\u001b[38;5;124m is not JSON serializable\u001b[39m\u001b[38;5;124m\"\u001b[39m \u001b[38;5;241m%\u001b[39m obj)\n",
      "\u001b[1;31mTypeError\u001b[0m: (1.0976048149072379e-05+0j) is not JSON serializable",
      "\nDuring handling of the above exception, another exception occurred:\n",
      "\u001b[1;31mValueError\u001b[0m                                Traceback (most recent call last)",
      "Cell \u001b[1;32mIn[21], line 1\u001b[0m\n\u001b[1;32m----> 1\u001b[0m fig \u001b[38;5;241m=\u001b[39m koma\u001b[38;5;241m.\u001b[39mplot\u001b[38;5;241m.\u001b[39mstabplot(lambd_stab, orders_stab, psd_freq\u001b[38;5;241m=\u001b[39mf, psd_y\u001b[38;5;241m=\u001b[39mS, frequency_unit\u001b[38;5;241m=\u001b[39m\u001b[38;5;124m'\u001b[39m\u001b[38;5;124mhz\u001b[39m\u001b[38;5;124m'\u001b[39m, freq_range\u001b[38;5;241m=\u001b[39m[\u001b[38;5;241m0\u001b[39m, \u001b[38;5;241m8\u001b[39m], damped_freq\u001b[38;5;241m=\u001b[39m\u001b[38;5;28;01mFalse\u001b[39;00m)\n\u001b[0;32m      3\u001b[0m fig\n",
      "File \u001b[1;32mc:\\Users\\marku\\anaconda3\\Lib\\site-packages\\koma\\plot.py:166\u001b[0m, in \u001b[0;36mstabplot\u001b[1;34m(lambd, orders, phi, model, freq_range, frequency_unit, damped_freq, psd_freq, psd_y, psd_plot_scale, renderer, pole_settings, selected_pole_settings, to_clipboard, return_ix)\u001b[0m\n\u001b[0;32m    152\u001b[0m fig\u001b[38;5;241m.\u001b[39madd_trace(\n\u001b[0;32m    153\u001b[0m     go\u001b[38;5;241m.\u001b[39mTable(header\u001b[38;5;241m=\u001b[39m\n\u001b[0;32m    154\u001b[0m                  \u001b[38;5;28mdict\u001b[39m(values\u001b[38;5;241m=\u001b[39m[\u001b[38;5;124m'\u001b[39m\u001b[38;5;124mPole index\u001b[39m\u001b[38;5;124m'\u001b[39m, xlabel, \u001b[38;5;124mr\u001b[39m\u001b[38;5;124m'\u001b[39m\u001b[38;5;124m$\u001b[39m\u001b[38;5;124m\\\u001b[39m\u001b[38;5;124mxi [\u001b[39m\u001b[38;5;124m\\\u001b[39m\u001b[38;5;124m%\u001b[39m\u001b[38;5;124m]$\u001b[39m\u001b[38;5;124m'\u001b[39m],\n\u001b[1;32m   (...)\u001b[0m\n\u001b[0;32m    158\u001b[0m                  \u001b[38;5;28mdict\u001b[39m(values\u001b[38;5;241m=\u001b[39m[],fill_color\u001b[38;5;241m=\u001b[39m\u001b[38;5;124m'\u001b[39m\u001b[38;5;124mlavender\u001b[39m\u001b[38;5;124m'\u001b[39m,\n\u001b[0;32m    159\u001b[0m            align\u001b[38;5;241m=\u001b[39m\u001b[38;5;124m'\u001b[39m\u001b[38;5;124mleft\u001b[39m\u001b[38;5;124m'\u001b[39m)), row\u001b[38;5;241m=\u001b[39m\u001b[38;5;241m2\u001b[39m, col\u001b[38;5;241m=\u001b[39m\u001b[38;5;241m1\u001b[39m)\n\u001b[0;32m    161\u001b[0m fig\u001b[38;5;241m.\u001b[39mupdate_layout(\n\u001b[0;32m    162\u001b[0m       height\u001b[38;5;241m=\u001b[39m\u001b[38;5;241m1000\u001b[39m,\n\u001b[0;32m    163\u001b[0m       showlegend\u001b[38;5;241m=\u001b[39m\u001b[38;5;28;01mFalse\u001b[39;00m\n\u001b[0;32m    164\u001b[0m       )\n\u001b[1;32m--> 166\u001b[0m fig \u001b[38;5;241m=\u001b[39m go\u001b[38;5;241m.\u001b[39mFigureWidget(fig)  \u001b[38;5;66;03m#convert to widget\u001b[39;00m\n\u001b[0;32m    168\u001b[0m \u001b[38;5;66;03m# Callback function for selection poles\u001b[39;00m\n\u001b[0;32m    169\u001b[0m ix \u001b[38;5;241m=\u001b[39m np\u001b[38;5;241m.\u001b[39marange(\u001b[38;5;241m0\u001b[39m, \u001b[38;5;28mlen\u001b[39m(lambd))\n",
      "File \u001b[1;32mc:\\Users\\marku\\anaconda3\\Lib\\site-packages\\plotly\\graph_objs\\_figurewidget.py:594\u001b[0m, in \u001b[0;36mFigureWidget.__init__\u001b[1;34m(self, data, layout, frames, skip_invalid, **kwargs)\u001b[0m\n\u001b[0;32m      5\u001b[0m \u001b[38;5;28;01mdef\u001b[39;00m \u001b[38;5;21m__init__\u001b[39m(\n\u001b[0;32m      6\u001b[0m     \u001b[38;5;28mself\u001b[39m, data\u001b[38;5;241m=\u001b[39m\u001b[38;5;28;01mNone\u001b[39;00m, layout\u001b[38;5;241m=\u001b[39m\u001b[38;5;28;01mNone\u001b[39;00m, frames\u001b[38;5;241m=\u001b[39m\u001b[38;5;28;01mNone\u001b[39;00m, skip_invalid\u001b[38;5;241m=\u001b[39m\u001b[38;5;28;01mFalse\u001b[39;00m, \u001b[38;5;241m*\u001b[39m\u001b[38;5;241m*\u001b[39mkwargs\n\u001b[0;32m      7\u001b[0m ):\n\u001b[0;32m      8\u001b[0m \u001b[38;5;250m    \u001b[39m\u001b[38;5;124;03m\"\"\"\u001b[39;00m\n\u001b[0;32m      9\u001b[0m \u001b[38;5;124;03m    Create a new :class:FigureWidget instance\u001b[39;00m\n\u001b[0;32m     10\u001b[0m \n\u001b[1;32m   (...)\u001b[0m\n\u001b[0;32m    592\u001b[0m \u001b[38;5;124;03m        is invalid AND skip_invalid is False\u001b[39;00m\n\u001b[0;32m    593\u001b[0m \u001b[38;5;124;03m    \"\"\"\u001b[39;00m\n\u001b[1;32m--> 594\u001b[0m     \u001b[38;5;28msuper\u001b[39m(FigureWidget, \u001b[38;5;28mself\u001b[39m)\u001b[38;5;241m.\u001b[39m\u001b[38;5;21m__init__\u001b[39m(data, layout, frames, skip_invalid, \u001b[38;5;241m*\u001b[39m\u001b[38;5;241m*\u001b[39mkwargs)\n",
      "File \u001b[1;32mc:\\Users\\marku\\anaconda3\\Lib\\site-packages\\plotly\\basewidget.py:117\u001b[0m, in \u001b[0;36mBaseFigureWidget.__init__\u001b[1;34m(self, data, layout, frames, skip_invalid, **kwargs)\u001b[0m\n\u001b[0;32m    108\u001b[0m \u001b[38;5;28;01mdef\u001b[39;00m \u001b[38;5;21m__init__\u001b[39m(\n\u001b[0;32m    109\u001b[0m     \u001b[38;5;28mself\u001b[39m, data\u001b[38;5;241m=\u001b[39m\u001b[38;5;28;01mNone\u001b[39;00m, layout\u001b[38;5;241m=\u001b[39m\u001b[38;5;28;01mNone\u001b[39;00m, frames\u001b[38;5;241m=\u001b[39m\u001b[38;5;28;01mNone\u001b[39;00m, skip_invalid\u001b[38;5;241m=\u001b[39m\u001b[38;5;28;01mFalse\u001b[39;00m, \u001b[38;5;241m*\u001b[39m\u001b[38;5;241m*\u001b[39mkwargs\n\u001b[0;32m    110\u001b[0m ):\n\u001b[1;32m   (...)\u001b[0m\n\u001b[0;32m    115\u001b[0m     \u001b[38;5;66;03m# with the `layout` constructor parameter of the `widgets.DOMWidget`\u001b[39;00m\n\u001b[0;32m    116\u001b[0m     \u001b[38;5;66;03m# ipywidgets class\u001b[39;00m\n\u001b[1;32m--> 117\u001b[0m     \u001b[38;5;28msuper\u001b[39m(BaseFigureWidget, \u001b[38;5;28mself\u001b[39m)\u001b[38;5;241m.\u001b[39m\u001b[38;5;21m__init__\u001b[39m(\n\u001b[0;32m    118\u001b[0m         data\u001b[38;5;241m=\u001b[39mdata,\n\u001b[0;32m    119\u001b[0m         layout_plotly\u001b[38;5;241m=\u001b[39mlayout,\n\u001b[0;32m    120\u001b[0m         frames\u001b[38;5;241m=\u001b[39mframes,\n\u001b[0;32m    121\u001b[0m         skip_invalid\u001b[38;5;241m=\u001b[39mskip_invalid,\n\u001b[0;32m    122\u001b[0m         \u001b[38;5;241m*\u001b[39m\u001b[38;5;241m*\u001b[39mkwargs,\n\u001b[0;32m    123\u001b[0m     )\n\u001b[0;32m    125\u001b[0m     \u001b[38;5;66;03m# Validate Frames\u001b[39;00m\n\u001b[0;32m    126\u001b[0m     \u001b[38;5;66;03m# ---------------\u001b[39;00m\n\u001b[0;32m    127\u001b[0m     \u001b[38;5;66;03m# Frames are not supported by figure widget\u001b[39;00m\n\u001b[0;32m    128\u001b[0m     \u001b[38;5;28;01mif\u001b[39;00m \u001b[38;5;28mself\u001b[39m\u001b[38;5;241m.\u001b[39m_frame_objs:\n",
      "File \u001b[1;32mc:\\Users\\marku\\anaconda3\\Lib\\site-packages\\plotly\\basedatatypes.py:524\u001b[0m, in \u001b[0;36mBaseFigure.__init__\u001b[1;34m(self, data, layout_plotly, frames, skip_invalid, **kwargs)\u001b[0m\n\u001b[0;32m    519\u001b[0m \u001b[38;5;28mself\u001b[39m\u001b[38;5;241m.\u001b[39m_data_objs \u001b[38;5;241m=\u001b[39m data\n\u001b[0;32m    521\u001b[0m \u001b[38;5;66;03m# ### Import clone of trace properties ###\u001b[39;00m\n\u001b[0;32m    522\u001b[0m \u001b[38;5;66;03m# The _data property is a list of dicts containing the properties\u001b[39;00m\n\u001b[0;32m    523\u001b[0m \u001b[38;5;66;03m# explicitly set by the user for each trace.\u001b[39;00m\n\u001b[1;32m--> 524\u001b[0m \u001b[38;5;28mself\u001b[39m\u001b[38;5;241m.\u001b[39m_data \u001b[38;5;241m=\u001b[39m [deepcopy(trace\u001b[38;5;241m.\u001b[39m_props) \u001b[38;5;28;01mfor\u001b[39;00m trace \u001b[38;5;129;01min\u001b[39;00m data]\n\u001b[0;32m    526\u001b[0m \u001b[38;5;66;03m# ### Create data defaults ###\u001b[39;00m\n\u001b[0;32m    527\u001b[0m \u001b[38;5;66;03m# _data_defaults is a tuple of dicts, one for each trace. When\u001b[39;00m\n\u001b[0;32m    528\u001b[0m \u001b[38;5;66;03m# running in a widget context, these defaults are populated with\u001b[39;00m\n\u001b[1;32m   (...)\u001b[0m\n\u001b[0;32m    532\u001b[0m \u001b[38;5;66;03m# Note: No property should exist in both the _data and\u001b[39;00m\n\u001b[0;32m    533\u001b[0m \u001b[38;5;66;03m# _data_defaults for the same trace.\u001b[39;00m\n\u001b[0;32m    534\u001b[0m \u001b[38;5;28mself\u001b[39m\u001b[38;5;241m.\u001b[39m_data_defaults \u001b[38;5;241m=\u001b[39m [{} \u001b[38;5;28;01mfor\u001b[39;00m _ \u001b[38;5;129;01min\u001b[39;00m data]\n",
      "File \u001b[1;32mc:\\Users\\marku\\anaconda3\\Lib\\site-packages\\plotly\\basedatatypes.py:719\u001b[0m, in \u001b[0;36mBaseFigure.__setattr__\u001b[1;34m(self, prop, value)\u001b[0m\n\u001b[0;32m    706\u001b[0m \u001b[38;5;250m\u001b[39m\u001b[38;5;124;03m\"\"\"\u001b[39;00m\n\u001b[0;32m    707\u001b[0m \u001b[38;5;124;03mParameters\u001b[39;00m\n\u001b[0;32m    708\u001b[0m \u001b[38;5;124;03m----------\u001b[39;00m\n\u001b[1;32m   (...)\u001b[0m\n\u001b[0;32m    715\u001b[0m \u001b[38;5;124;03mNone\u001b[39;00m\n\u001b[0;32m    716\u001b[0m \u001b[38;5;124;03m\"\"\"\u001b[39;00m\n\u001b[0;32m    717\u001b[0m \u001b[38;5;28;01mif\u001b[39;00m prop\u001b[38;5;241m.\u001b[39mstartswith(\u001b[38;5;124m\"\u001b[39m\u001b[38;5;124m_\u001b[39m\u001b[38;5;124m\"\u001b[39m) \u001b[38;5;129;01mor\u001b[39;00m \u001b[38;5;28mhasattr\u001b[39m(\u001b[38;5;28mself\u001b[39m, prop):\n\u001b[0;32m    718\u001b[0m     \u001b[38;5;66;03m# Let known properties and private properties through\u001b[39;00m\n\u001b[1;32m--> 719\u001b[0m     \u001b[38;5;28msuper\u001b[39m(BaseFigure, \u001b[38;5;28mself\u001b[39m)\u001b[38;5;241m.\u001b[39m\u001b[38;5;21m__setattr__\u001b[39m(prop, value)\n\u001b[0;32m    720\u001b[0m \u001b[38;5;28;01melse\u001b[39;00m:\n\u001b[0;32m    721\u001b[0m     \u001b[38;5;66;03m# Raise error on unknown public properties\u001b[39;00m\n\u001b[0;32m    722\u001b[0m     \u001b[38;5;28;01mraise\u001b[39;00m \u001b[38;5;167;01mAttributeError\u001b[39;00m(prop)\n",
      "File \u001b[1;32mc:\\Users\\marku\\anaconda3\\Lib\\site-packages\\traitlets\\traitlets.py:729\u001b[0m, in \u001b[0;36mTraitType.__set__\u001b[1;34m(self, obj, value)\u001b[0m\n\u001b[0;32m    727\u001b[0m     \u001b[38;5;28;01mraise\u001b[39;00m TraitError(\u001b[38;5;124m'\u001b[39m\u001b[38;5;124mThe \u001b[39m\u001b[38;5;124m\"\u001b[39m\u001b[38;5;132;01m%s\u001b[39;00m\u001b[38;5;124m\"\u001b[39m\u001b[38;5;124m trait is read-only.\u001b[39m\u001b[38;5;124m'\u001b[39m \u001b[38;5;241m%\u001b[39m \u001b[38;5;28mself\u001b[39m\u001b[38;5;241m.\u001b[39mname)\n\u001b[0;32m    728\u001b[0m \u001b[38;5;28;01melse\u001b[39;00m:\n\u001b[1;32m--> 729\u001b[0m     \u001b[38;5;28mself\u001b[39m\u001b[38;5;241m.\u001b[39mset(obj, value)\n",
      "File \u001b[1;32mc:\\Users\\marku\\anaconda3\\Lib\\site-packages\\traitlets\\traitlets.py:3007\u001b[0m, in \u001b[0;36mList.set\u001b[1;34m(self, obj, value)\u001b[0m\n\u001b[0;32m   3005\u001b[0m     \u001b[38;5;28;01mreturn\u001b[39;00m \u001b[38;5;28msuper\u001b[39m()\u001b[38;5;241m.\u001b[39mset(obj, [value])\n\u001b[0;32m   3006\u001b[0m \u001b[38;5;28;01melse\u001b[39;00m:\n\u001b[1;32m-> 3007\u001b[0m     \u001b[38;5;28;01mreturn\u001b[39;00m \u001b[38;5;28msuper\u001b[39m()\u001b[38;5;241m.\u001b[39mset(obj, value)\n",
      "File \u001b[1;32mc:\\Users\\marku\\anaconda3\\Lib\\site-packages\\traitlets\\traitlets.py:718\u001b[0m, in \u001b[0;36mTraitType.set\u001b[1;34m(self, obj, value)\u001b[0m\n\u001b[0;32m    714\u001b[0m     silent \u001b[38;5;241m=\u001b[39m \u001b[38;5;28;01mFalse\u001b[39;00m\n\u001b[0;32m    715\u001b[0m \u001b[38;5;28;01mif\u001b[39;00m silent \u001b[38;5;129;01mis\u001b[39;00m \u001b[38;5;129;01mnot\u001b[39;00m \u001b[38;5;28;01mTrue\u001b[39;00m:\n\u001b[0;32m    716\u001b[0m     \u001b[38;5;66;03m# we explicitly compare silent to True just in case the equality\u001b[39;00m\n\u001b[0;32m    717\u001b[0m     \u001b[38;5;66;03m# comparison above returns something other than True/False\u001b[39;00m\n\u001b[1;32m--> 718\u001b[0m     obj\u001b[38;5;241m.\u001b[39m_notify_trait(\u001b[38;5;28mself\u001b[39m\u001b[38;5;241m.\u001b[39mname, old_value, new_value)\n",
      "File \u001b[1;32mc:\\Users\\marku\\anaconda3\\Lib\\site-packages\\traitlets\\traitlets.py:1501\u001b[0m, in \u001b[0;36mHasTraits._notify_trait\u001b[1;34m(self, name, old_value, new_value)\u001b[0m\n\u001b[0;32m   1500\u001b[0m \u001b[38;5;28;01mdef\u001b[39;00m \u001b[38;5;21m_notify_trait\u001b[39m(\u001b[38;5;28mself\u001b[39m, name, old_value, new_value):\n\u001b[1;32m-> 1501\u001b[0m     \u001b[38;5;28mself\u001b[39m\u001b[38;5;241m.\u001b[39mnotify_change(\n\u001b[0;32m   1502\u001b[0m         Bunch(\n\u001b[0;32m   1503\u001b[0m             name\u001b[38;5;241m=\u001b[39mname,\n\u001b[0;32m   1504\u001b[0m             old\u001b[38;5;241m=\u001b[39mold_value,\n\u001b[0;32m   1505\u001b[0m             new\u001b[38;5;241m=\u001b[39mnew_value,\n\u001b[0;32m   1506\u001b[0m             owner\u001b[38;5;241m=\u001b[39m\u001b[38;5;28mself\u001b[39m,\n\u001b[0;32m   1507\u001b[0m             \u001b[38;5;28mtype\u001b[39m\u001b[38;5;241m=\u001b[39m\u001b[38;5;124m\"\u001b[39m\u001b[38;5;124mchange\u001b[39m\u001b[38;5;124m\"\u001b[39m,\n\u001b[0;32m   1508\u001b[0m         )\n\u001b[0;32m   1509\u001b[0m     )\n",
      "File \u001b[1;32mc:\\Users\\marku\\anaconda3\\Lib\\site-packages\\ipywidgets\\widgets\\widget.py:693\u001b[0m, in \u001b[0;36mWidget.notify_change\u001b[1;34m(self, change)\u001b[0m\n\u001b[0;32m    689\u001b[0m \u001b[38;5;28;01mif\u001b[39;00m \u001b[38;5;28mself\u001b[39m\u001b[38;5;241m.\u001b[39mcomm \u001b[38;5;129;01mis\u001b[39;00m \u001b[38;5;129;01mnot\u001b[39;00m \u001b[38;5;28;01mNone\u001b[39;00m \u001b[38;5;129;01mand\u001b[39;00m \u001b[38;5;28mself\u001b[39m\u001b[38;5;241m.\u001b[39mcomm\u001b[38;5;241m.\u001b[39mkernel \u001b[38;5;129;01mis\u001b[39;00m \u001b[38;5;129;01mnot\u001b[39;00m \u001b[38;5;28;01mNone\u001b[39;00m:\n\u001b[0;32m    690\u001b[0m     \u001b[38;5;66;03m# Make sure this isn't information that the front-end just sent us.\u001b[39;00m\n\u001b[0;32m    691\u001b[0m     \u001b[38;5;28;01mif\u001b[39;00m name \u001b[38;5;129;01min\u001b[39;00m \u001b[38;5;28mself\u001b[39m\u001b[38;5;241m.\u001b[39mkeys \u001b[38;5;129;01mand\u001b[39;00m \u001b[38;5;28mself\u001b[39m\u001b[38;5;241m.\u001b[39m_should_send_property(name, \u001b[38;5;28mgetattr\u001b[39m(\u001b[38;5;28mself\u001b[39m, name)):\n\u001b[0;32m    692\u001b[0m         \u001b[38;5;66;03m# Send new state to front-end\u001b[39;00m\n\u001b[1;32m--> 693\u001b[0m         \u001b[38;5;28mself\u001b[39m\u001b[38;5;241m.\u001b[39msend_state(key\u001b[38;5;241m=\u001b[39mname)\n\u001b[0;32m    694\u001b[0m \u001b[38;5;28msuper\u001b[39m()\u001b[38;5;241m.\u001b[39mnotify_change(change)\n",
      "File \u001b[1;32mc:\\Users\\marku\\anaconda3\\Lib\\site-packages\\ipywidgets\\widgets\\widget.py:579\u001b[0m, in \u001b[0;36mWidget.send_state\u001b[1;34m(self, key)\u001b[0m\n\u001b[0;32m    577\u001b[0m state, buffer_paths, buffers \u001b[38;5;241m=\u001b[39m _remove_buffers(state)\n\u001b[0;32m    578\u001b[0m msg \u001b[38;5;241m=\u001b[39m {\u001b[38;5;124m'\u001b[39m\u001b[38;5;124mmethod\u001b[39m\u001b[38;5;124m'\u001b[39m: \u001b[38;5;124m'\u001b[39m\u001b[38;5;124mupdate\u001b[39m\u001b[38;5;124m'\u001b[39m, \u001b[38;5;124m'\u001b[39m\u001b[38;5;124mstate\u001b[39m\u001b[38;5;124m'\u001b[39m: state, \u001b[38;5;124m'\u001b[39m\u001b[38;5;124mbuffer_paths\u001b[39m\u001b[38;5;124m'\u001b[39m: buffer_paths}\n\u001b[1;32m--> 579\u001b[0m \u001b[38;5;28mself\u001b[39m\u001b[38;5;241m.\u001b[39m_send(msg, buffers\u001b[38;5;241m=\u001b[39mbuffers)\n",
      "File \u001b[1;32mc:\\Users\\marku\\anaconda3\\Lib\\site-packages\\ipywidgets\\widgets\\widget.py:818\u001b[0m, in \u001b[0;36mWidget._send\u001b[1;34m(self, msg, buffers)\u001b[0m\n\u001b[0;32m    816\u001b[0m \u001b[38;5;250m\u001b[39m\u001b[38;5;124;03m\"\"\"Sends a message to the model in the front-end.\"\"\"\u001b[39;00m\n\u001b[0;32m    817\u001b[0m \u001b[38;5;28;01mif\u001b[39;00m \u001b[38;5;28mself\u001b[39m\u001b[38;5;241m.\u001b[39mcomm \u001b[38;5;129;01mis\u001b[39;00m \u001b[38;5;129;01mnot\u001b[39;00m \u001b[38;5;28;01mNone\u001b[39;00m \u001b[38;5;129;01mand\u001b[39;00m \u001b[38;5;28mself\u001b[39m\u001b[38;5;241m.\u001b[39mcomm\u001b[38;5;241m.\u001b[39mkernel \u001b[38;5;129;01mis\u001b[39;00m \u001b[38;5;129;01mnot\u001b[39;00m \u001b[38;5;28;01mNone\u001b[39;00m:\n\u001b[1;32m--> 818\u001b[0m     \u001b[38;5;28mself\u001b[39m\u001b[38;5;241m.\u001b[39mcomm\u001b[38;5;241m.\u001b[39msend(data\u001b[38;5;241m=\u001b[39mmsg, buffers\u001b[38;5;241m=\u001b[39mbuffers)\n",
      "File \u001b[1;32mc:\\Users\\marku\\anaconda3\\Lib\\site-packages\\comm\\base_comm.py:113\u001b[0m, in \u001b[0;36mBaseComm.send\u001b[1;34m(self, data, metadata, buffers)\u001b[0m\n\u001b[0;32m    111\u001b[0m \u001b[38;5;28;01mdef\u001b[39;00m \u001b[38;5;21msend\u001b[39m(\u001b[38;5;28mself\u001b[39m, data\u001b[38;5;241m=\u001b[39m\u001b[38;5;28;01mNone\u001b[39;00m, metadata\u001b[38;5;241m=\u001b[39m\u001b[38;5;28;01mNone\u001b[39;00m, buffers\u001b[38;5;241m=\u001b[39m\u001b[38;5;28;01mNone\u001b[39;00m):\n\u001b[0;32m    112\u001b[0m \u001b[38;5;250m    \u001b[39m\u001b[38;5;124;03m\"\"\"Send a message to the frontend-side version of this comm\"\"\"\u001b[39;00m\n\u001b[1;32m--> 113\u001b[0m     \u001b[38;5;28mself\u001b[39m\u001b[38;5;241m.\u001b[39mpublish_msg(\n\u001b[0;32m    114\u001b[0m         \u001b[38;5;124m\"\u001b[39m\u001b[38;5;124mcomm_msg\u001b[39m\u001b[38;5;124m\"\u001b[39m,\n\u001b[0;32m    115\u001b[0m         data\u001b[38;5;241m=\u001b[39mdata,\n\u001b[0;32m    116\u001b[0m         metadata\u001b[38;5;241m=\u001b[39mmetadata,\n\u001b[0;32m    117\u001b[0m         buffers\u001b[38;5;241m=\u001b[39mbuffers,\n\u001b[0;32m    118\u001b[0m     )\n",
      "File \u001b[1;32mc:\\Users\\marku\\anaconda3\\Lib\\site-packages\\ipykernel\\comm\\comm.py:36\u001b[0m, in \u001b[0;36mBaseComm.publish_msg\u001b[1;34m(self, msg_type, data, metadata, buffers, **keys)\u001b[0m\n\u001b[0;32m     33\u001b[0m \u001b[38;5;28;01mif\u001b[39;00m \u001b[38;5;28mself\u001b[39m\u001b[38;5;241m.\u001b[39mkernel \u001b[38;5;129;01mis\u001b[39;00m \u001b[38;5;28;01mNone\u001b[39;00m:\n\u001b[0;32m     34\u001b[0m     \u001b[38;5;28mself\u001b[39m\u001b[38;5;241m.\u001b[39mkernel \u001b[38;5;241m=\u001b[39m Kernel\u001b[38;5;241m.\u001b[39minstance()\n\u001b[1;32m---> 36\u001b[0m \u001b[38;5;28mself\u001b[39m\u001b[38;5;241m.\u001b[39mkernel\u001b[38;5;241m.\u001b[39msession\u001b[38;5;241m.\u001b[39msend(\n\u001b[0;32m     37\u001b[0m     \u001b[38;5;28mself\u001b[39m\u001b[38;5;241m.\u001b[39mkernel\u001b[38;5;241m.\u001b[39miopub_socket,\n\u001b[0;32m     38\u001b[0m     msg_type,\n\u001b[0;32m     39\u001b[0m     content,\n\u001b[0;32m     40\u001b[0m     metadata\u001b[38;5;241m=\u001b[39mjson_clean(metadata),\n\u001b[0;32m     41\u001b[0m     parent\u001b[38;5;241m=\u001b[39m\u001b[38;5;28mself\u001b[39m\u001b[38;5;241m.\u001b[39mkernel\u001b[38;5;241m.\u001b[39mget_parent(),\n\u001b[0;32m     42\u001b[0m     ident\u001b[38;5;241m=\u001b[39m\u001b[38;5;28mself\u001b[39m\u001b[38;5;241m.\u001b[39mtopic,\n\u001b[0;32m     43\u001b[0m     buffers\u001b[38;5;241m=\u001b[39mbuffers,\n\u001b[0;32m     44\u001b[0m )\n",
      "File \u001b[1;32mc:\\Users\\marku\\anaconda3\\Lib\\site-packages\\jupyter_client\\session.py:848\u001b[0m, in \u001b[0;36mSession.send\u001b[1;34m(self, stream, msg_or_type, content, parent, ident, buffers, track, header, metadata)\u001b[0m\n\u001b[0;32m    846\u001b[0m \u001b[38;5;28;01mif\u001b[39;00m \u001b[38;5;28mself\u001b[39m\u001b[38;5;241m.\u001b[39madapt_version:\n\u001b[0;32m    847\u001b[0m     msg \u001b[38;5;241m=\u001b[39m adapt(msg, \u001b[38;5;28mself\u001b[39m\u001b[38;5;241m.\u001b[39madapt_version)\n\u001b[1;32m--> 848\u001b[0m to_send \u001b[38;5;241m=\u001b[39m \u001b[38;5;28mself\u001b[39m\u001b[38;5;241m.\u001b[39mserialize(msg, ident)\n\u001b[0;32m    849\u001b[0m to_send\u001b[38;5;241m.\u001b[39mextend(buffers)\n\u001b[0;32m    850\u001b[0m longest \u001b[38;5;241m=\u001b[39m \u001b[38;5;28mmax\u001b[39m([\u001b[38;5;28mlen\u001b[39m(s) \u001b[38;5;28;01mfor\u001b[39;00m s \u001b[38;5;129;01min\u001b[39;00m to_send])\n",
      "File \u001b[1;32mc:\\Users\\marku\\anaconda3\\Lib\\site-packages\\jupyter_client\\session.py:718\u001b[0m, in \u001b[0;36mSession.serialize\u001b[1;34m(self, msg, ident)\u001b[0m\n\u001b[0;32m    716\u001b[0m     content \u001b[38;5;241m=\u001b[39m \u001b[38;5;28mself\u001b[39m\u001b[38;5;241m.\u001b[39mnone\n\u001b[0;32m    717\u001b[0m \u001b[38;5;28;01melif\u001b[39;00m \u001b[38;5;28misinstance\u001b[39m(content, \u001b[38;5;28mdict\u001b[39m):\n\u001b[1;32m--> 718\u001b[0m     content \u001b[38;5;241m=\u001b[39m \u001b[38;5;28mself\u001b[39m\u001b[38;5;241m.\u001b[39mpack(content)\n\u001b[0;32m    719\u001b[0m \u001b[38;5;28;01melif\u001b[39;00m \u001b[38;5;28misinstance\u001b[39m(content, \u001b[38;5;28mbytes\u001b[39m):\n\u001b[0;32m    720\u001b[0m     \u001b[38;5;66;03m# content is already packed, as in a relayed message\u001b[39;00m\n\u001b[0;32m    721\u001b[0m     \u001b[38;5;28;01mpass\u001b[39;00m\n",
      "File \u001b[1;32mc:\\Users\\marku\\anaconda3\\Lib\\site-packages\\jupyter_client\\session.py:108\u001b[0m, in \u001b[0;36mjson_packer\u001b[1;34m(obj)\u001b[0m\n\u001b[0;32m     99\u001b[0m     \u001b[38;5;28;01mreturn\u001b[39;00m json\u001b[38;5;241m.\u001b[39mdumps(\n\u001b[0;32m    100\u001b[0m         obj,\n\u001b[0;32m    101\u001b[0m         default\u001b[38;5;241m=\u001b[39mjson_default,\n\u001b[0;32m    102\u001b[0m         ensure_ascii\u001b[38;5;241m=\u001b[39m\u001b[38;5;28;01mFalse\u001b[39;00m,\n\u001b[0;32m    103\u001b[0m         allow_nan\u001b[38;5;241m=\u001b[39m\u001b[38;5;28;01mFalse\u001b[39;00m,\n\u001b[0;32m    104\u001b[0m     )\u001b[38;5;241m.\u001b[39mencode(\u001b[38;5;124m\"\u001b[39m\u001b[38;5;124mutf8\u001b[39m\u001b[38;5;124m\"\u001b[39m, errors\u001b[38;5;241m=\u001b[39m\u001b[38;5;124m\"\u001b[39m\u001b[38;5;124msurrogateescape\u001b[39m\u001b[38;5;124m\"\u001b[39m)\n\u001b[0;32m    105\u001b[0m \u001b[38;5;28;01mexcept\u001b[39;00m (\u001b[38;5;167;01mTypeError\u001b[39;00m, \u001b[38;5;167;01mValueError\u001b[39;00m) \u001b[38;5;28;01mas\u001b[39;00m e:\n\u001b[0;32m    106\u001b[0m     \u001b[38;5;66;03m# Fallback to trying to clean the json before serializing\u001b[39;00m\n\u001b[0;32m    107\u001b[0m     packed \u001b[38;5;241m=\u001b[39m json\u001b[38;5;241m.\u001b[39mdumps(\n\u001b[1;32m--> 108\u001b[0m         json_clean(obj),\n\u001b[0;32m    109\u001b[0m         default\u001b[38;5;241m=\u001b[39mjson_default,\n\u001b[0;32m    110\u001b[0m         ensure_ascii\u001b[38;5;241m=\u001b[39m\u001b[38;5;28;01mFalse\u001b[39;00m,\n\u001b[0;32m    111\u001b[0m         allow_nan\u001b[38;5;241m=\u001b[39m\u001b[38;5;28;01mFalse\u001b[39;00m,\n\u001b[0;32m    112\u001b[0m     )\u001b[38;5;241m.\u001b[39mencode(\u001b[38;5;124m\"\u001b[39m\u001b[38;5;124mutf8\u001b[39m\u001b[38;5;124m\"\u001b[39m, errors\u001b[38;5;241m=\u001b[39m\u001b[38;5;124m\"\u001b[39m\u001b[38;5;124msurrogateescape\u001b[39m\u001b[38;5;124m\"\u001b[39m)\n\u001b[0;32m    114\u001b[0m     warnings\u001b[38;5;241m.\u001b[39mwarn(\n\u001b[0;32m    115\u001b[0m         \u001b[38;5;124mf\u001b[39m\u001b[38;5;124m\"\u001b[39m\u001b[38;5;124mMessage serialization failed with:\u001b[39m\u001b[38;5;130;01m\\n\u001b[39;00m\u001b[38;5;132;01m{\u001b[39;00me\u001b[38;5;132;01m}\u001b[39;00m\u001b[38;5;130;01m\\n\u001b[39;00m\u001b[38;5;124m\"\u001b[39m\n\u001b[0;32m    116\u001b[0m         \u001b[38;5;124m\"\u001b[39m\u001b[38;5;124mSupporting this message is deprecated in jupyter-client 7, please make \u001b[39m\u001b[38;5;124m\"\u001b[39m\n\u001b[0;32m    117\u001b[0m         \u001b[38;5;124m\"\u001b[39m\u001b[38;5;124msure your message is JSON-compliant\u001b[39m\u001b[38;5;124m\"\u001b[39m,\n\u001b[0;32m    118\u001b[0m         stacklevel\u001b[38;5;241m=\u001b[39m\u001b[38;5;241m2\u001b[39m,\n\u001b[0;32m    119\u001b[0m     )\n\u001b[0;32m    121\u001b[0m     \u001b[38;5;28;01mreturn\u001b[39;00m packed\n",
      "File \u001b[1;32mc:\\Users\\marku\\anaconda3\\Lib\\site-packages\\jupyter_client\\jsonutil.py:185\u001b[0m, in \u001b[0;36mjson_clean\u001b[1;34m(obj)\u001b[0m\n\u001b[0;32m    183\u001b[0m     out \u001b[38;5;241m=\u001b[39m {}\n\u001b[0;32m    184\u001b[0m     \u001b[38;5;28;01mfor\u001b[39;00m k, v \u001b[38;5;129;01min\u001b[39;00m obj\u001b[38;5;241m.\u001b[39mitems():\n\u001b[1;32m--> 185\u001b[0m         out[\u001b[38;5;28mstr\u001b[39m(k)] \u001b[38;5;241m=\u001b[39m json_clean(v)\n\u001b[0;32m    186\u001b[0m     \u001b[38;5;28;01mreturn\u001b[39;00m out\n\u001b[0;32m    188\u001b[0m \u001b[38;5;28;01mif\u001b[39;00m \u001b[38;5;28misinstance\u001b[39m(obj, datetime):\n",
      "File \u001b[1;32mc:\\Users\\marku\\anaconda3\\Lib\\site-packages\\jupyter_client\\jsonutil.py:185\u001b[0m, in \u001b[0;36mjson_clean\u001b[1;34m(obj)\u001b[0m\n\u001b[0;32m    183\u001b[0m     out \u001b[38;5;241m=\u001b[39m {}\n\u001b[0;32m    184\u001b[0m     \u001b[38;5;28;01mfor\u001b[39;00m k, v \u001b[38;5;129;01min\u001b[39;00m obj\u001b[38;5;241m.\u001b[39mitems():\n\u001b[1;32m--> 185\u001b[0m         out[\u001b[38;5;28mstr\u001b[39m(k)] \u001b[38;5;241m=\u001b[39m json_clean(v)\n\u001b[0;32m    186\u001b[0m     \u001b[38;5;28;01mreturn\u001b[39;00m out\n\u001b[0;32m    188\u001b[0m \u001b[38;5;28;01mif\u001b[39;00m \u001b[38;5;28misinstance\u001b[39m(obj, datetime):\n",
      "File \u001b[1;32mc:\\Users\\marku\\anaconda3\\Lib\\site-packages\\jupyter_client\\jsonutil.py:185\u001b[0m, in \u001b[0;36mjson_clean\u001b[1;34m(obj)\u001b[0m\n\u001b[0;32m    183\u001b[0m     out \u001b[38;5;241m=\u001b[39m {}\n\u001b[0;32m    184\u001b[0m     \u001b[38;5;28;01mfor\u001b[39;00m k, v \u001b[38;5;129;01min\u001b[39;00m obj\u001b[38;5;241m.\u001b[39mitems():\n\u001b[1;32m--> 185\u001b[0m         out[\u001b[38;5;28mstr\u001b[39m(k)] \u001b[38;5;241m=\u001b[39m json_clean(v)\n\u001b[0;32m    186\u001b[0m     \u001b[38;5;28;01mreturn\u001b[39;00m out\n\u001b[0;32m    188\u001b[0m \u001b[38;5;28;01mif\u001b[39;00m \u001b[38;5;28misinstance\u001b[39m(obj, datetime):\n",
      "File \u001b[1;32mc:\\Users\\marku\\anaconda3\\Lib\\site-packages\\jupyter_client\\jsonutil.py:169\u001b[0m, in \u001b[0;36mjson_clean\u001b[1;34m(obj)\u001b[0m\n\u001b[0;32m    166\u001b[0m     obj \u001b[38;5;241m=\u001b[39m \u001b[38;5;28mlist\u001b[39m(obj)\n\u001b[0;32m    168\u001b[0m \u001b[38;5;28;01mif\u001b[39;00m \u001b[38;5;28misinstance\u001b[39m(obj, \u001b[38;5;28mlist\u001b[39m):\n\u001b[1;32m--> 169\u001b[0m     \u001b[38;5;28;01mreturn\u001b[39;00m [json_clean(x) \u001b[38;5;28;01mfor\u001b[39;00m x \u001b[38;5;129;01min\u001b[39;00m obj]\n\u001b[0;32m    171\u001b[0m \u001b[38;5;28;01mif\u001b[39;00m \u001b[38;5;28misinstance\u001b[39m(obj, \u001b[38;5;28mdict\u001b[39m):\n\u001b[0;32m    172\u001b[0m     \u001b[38;5;66;03m# First, validate that the dict won't lose data in conversion due to\u001b[39;00m\n\u001b[0;32m    173\u001b[0m     \u001b[38;5;66;03m# key collisions after stringification.  This can happen with keys like\u001b[39;00m\n\u001b[0;32m    174\u001b[0m     \u001b[38;5;66;03m# True and 'true' or 1 and '1', which collide in JSON.\u001b[39;00m\n\u001b[0;32m    175\u001b[0m     nkeys \u001b[38;5;241m=\u001b[39m \u001b[38;5;28mlen\u001b[39m(obj)\n",
      "File \u001b[1;32mc:\\Users\\marku\\anaconda3\\Lib\\site-packages\\jupyter_client\\jsonutil.py:169\u001b[0m, in \u001b[0;36m<listcomp>\u001b[1;34m(.0)\u001b[0m\n\u001b[0;32m    166\u001b[0m     obj \u001b[38;5;241m=\u001b[39m \u001b[38;5;28mlist\u001b[39m(obj)\n\u001b[0;32m    168\u001b[0m \u001b[38;5;28;01mif\u001b[39;00m \u001b[38;5;28misinstance\u001b[39m(obj, \u001b[38;5;28mlist\u001b[39m):\n\u001b[1;32m--> 169\u001b[0m     \u001b[38;5;28;01mreturn\u001b[39;00m [json_clean(x) \u001b[38;5;28;01mfor\u001b[39;00m x \u001b[38;5;129;01min\u001b[39;00m obj]\n\u001b[0;32m    171\u001b[0m \u001b[38;5;28;01mif\u001b[39;00m \u001b[38;5;28misinstance\u001b[39m(obj, \u001b[38;5;28mdict\u001b[39m):\n\u001b[0;32m    172\u001b[0m     \u001b[38;5;66;03m# First, validate that the dict won't lose data in conversion due to\u001b[39;00m\n\u001b[0;32m    173\u001b[0m     \u001b[38;5;66;03m# key collisions after stringification.  This can happen with keys like\u001b[39;00m\n\u001b[0;32m    174\u001b[0m     \u001b[38;5;66;03m# True and 'true' or 1 and '1', which collide in JSON.\u001b[39;00m\n\u001b[0;32m    175\u001b[0m     nkeys \u001b[38;5;241m=\u001b[39m \u001b[38;5;28mlen\u001b[39m(obj)\n",
      "File \u001b[1;32mc:\\Users\\marku\\anaconda3\\Lib\\site-packages\\jupyter_client\\jsonutil.py:185\u001b[0m, in \u001b[0;36mjson_clean\u001b[1;34m(obj)\u001b[0m\n\u001b[0;32m    183\u001b[0m     out \u001b[38;5;241m=\u001b[39m {}\n\u001b[0;32m    184\u001b[0m     \u001b[38;5;28;01mfor\u001b[39;00m k, v \u001b[38;5;129;01min\u001b[39;00m obj\u001b[38;5;241m.\u001b[39mitems():\n\u001b[1;32m--> 185\u001b[0m         out[\u001b[38;5;28mstr\u001b[39m(k)] \u001b[38;5;241m=\u001b[39m json_clean(v)\n\u001b[0;32m    186\u001b[0m     \u001b[38;5;28;01mreturn\u001b[39;00m out\n\u001b[0;32m    188\u001b[0m \u001b[38;5;28;01mif\u001b[39;00m \u001b[38;5;28misinstance\u001b[39m(obj, datetime):\n",
      "File \u001b[1;32mc:\\Users\\marku\\anaconda3\\Lib\\site-packages\\jupyter_client\\jsonutil.py:169\u001b[0m, in \u001b[0;36mjson_clean\u001b[1;34m(obj)\u001b[0m\n\u001b[0;32m    166\u001b[0m     obj \u001b[38;5;241m=\u001b[39m \u001b[38;5;28mlist\u001b[39m(obj)\n\u001b[0;32m    168\u001b[0m \u001b[38;5;28;01mif\u001b[39;00m \u001b[38;5;28misinstance\u001b[39m(obj, \u001b[38;5;28mlist\u001b[39m):\n\u001b[1;32m--> 169\u001b[0m     \u001b[38;5;28;01mreturn\u001b[39;00m [json_clean(x) \u001b[38;5;28;01mfor\u001b[39;00m x \u001b[38;5;129;01min\u001b[39;00m obj]\n\u001b[0;32m    171\u001b[0m \u001b[38;5;28;01mif\u001b[39;00m \u001b[38;5;28misinstance\u001b[39m(obj, \u001b[38;5;28mdict\u001b[39m):\n\u001b[0;32m    172\u001b[0m     \u001b[38;5;66;03m# First, validate that the dict won't lose data in conversion due to\u001b[39;00m\n\u001b[0;32m    173\u001b[0m     \u001b[38;5;66;03m# key collisions after stringification.  This can happen with keys like\u001b[39;00m\n\u001b[0;32m    174\u001b[0m     \u001b[38;5;66;03m# True and 'true' or 1 and '1', which collide in JSON.\u001b[39;00m\n\u001b[0;32m    175\u001b[0m     nkeys \u001b[38;5;241m=\u001b[39m \u001b[38;5;28mlen\u001b[39m(obj)\n",
      "File \u001b[1;32mc:\\Users\\marku\\anaconda3\\Lib\\site-packages\\jupyter_client\\jsonutil.py:169\u001b[0m, in \u001b[0;36m<listcomp>\u001b[1;34m(.0)\u001b[0m\n\u001b[0;32m    166\u001b[0m     obj \u001b[38;5;241m=\u001b[39m \u001b[38;5;28mlist\u001b[39m(obj)\n\u001b[0;32m    168\u001b[0m \u001b[38;5;28;01mif\u001b[39;00m \u001b[38;5;28misinstance\u001b[39m(obj, \u001b[38;5;28mlist\u001b[39m):\n\u001b[1;32m--> 169\u001b[0m     \u001b[38;5;28;01mreturn\u001b[39;00m [json_clean(x) \u001b[38;5;28;01mfor\u001b[39;00m x \u001b[38;5;129;01min\u001b[39;00m obj]\n\u001b[0;32m    171\u001b[0m \u001b[38;5;28;01mif\u001b[39;00m \u001b[38;5;28misinstance\u001b[39m(obj, \u001b[38;5;28mdict\u001b[39m):\n\u001b[0;32m    172\u001b[0m     \u001b[38;5;66;03m# First, validate that the dict won't lose data in conversion due to\u001b[39;00m\n\u001b[0;32m    173\u001b[0m     \u001b[38;5;66;03m# key collisions after stringification.  This can happen with keys like\u001b[39;00m\n\u001b[0;32m    174\u001b[0m     \u001b[38;5;66;03m# True and 'true' or 1 and '1', which collide in JSON.\u001b[39;00m\n\u001b[0;32m    175\u001b[0m     nkeys \u001b[38;5;241m=\u001b[39m \u001b[38;5;28mlen\u001b[39m(obj)\n",
      "File \u001b[1;32mc:\\Users\\marku\\anaconda3\\Lib\\site-packages\\jupyter_client\\jsonutil.py:192\u001b[0m, in \u001b[0;36mjson_clean\u001b[1;34m(obj)\u001b[0m\n\u001b[0;32m    189\u001b[0m     \u001b[38;5;28;01mreturn\u001b[39;00m obj\u001b[38;5;241m.\u001b[39mstrftime(ISO8601)\n\u001b[0;32m    191\u001b[0m \u001b[38;5;66;03m# we don't understand it, it's probably an unserializable object\u001b[39;00m\n\u001b[1;32m--> 192\u001b[0m \u001b[38;5;28;01mraise\u001b[39;00m \u001b[38;5;167;01mValueError\u001b[39;00m(\u001b[38;5;124m\"\u001b[39m\u001b[38;5;124mCan\u001b[39m\u001b[38;5;124m'\u001b[39m\u001b[38;5;124mt clean for JSON: \u001b[39m\u001b[38;5;132;01m%r\u001b[39;00m\u001b[38;5;124m\"\u001b[39m \u001b[38;5;241m%\u001b[39m obj)\n",
      "\u001b[1;31mValueError\u001b[0m: Can't clean for JSON: (1.0976048149072379e-05+0j)"
     ]
    }
   ],
   "source": [
    "fig = koma.plot.stabplot(lambd_stab, orders_stab, psd_freq=f, psd_y=S, frequency_unit='hz', freq_range=[0, 8], damped_freq=False)\n",
    "\n",
    "fig"
   ]
  },
  {
   "cell_type": "code",
   "execution_count": 22,
   "metadata": {},
   "outputs": [],
   "source": [
    "pole_clusterer = koma.clustering.PoleClusterer(lambd_stab, phi_stab, orders_stab, min_cluster_size=7, min_samples=7,\n",
    "                                               scaling={'mac':0.4, 'omega_n':0.8}, normalize_distances=False)\n",
    "\n",
    "prob_threshold = 1.0\n",
    "\n",
    "pole_clusterer.cluster()\n",
    "\n",
    "outputs = pole_clusterer.postprocess(prob_threshold=prob_threshold, normalize_and_maxreal=True)\n",
    "lambd_used, phi_used, orders_stab_used, group_ixs, all_single_ix, probs = outputs\n",
    "\n",
    "xi_auto, omega_n_auto, phi_auto, order_auto, ixs_auto, probs_auto = koma.clustering.group_clusters(*outputs)\n",
    "\n",
    "xi_mean = np.array([np.mean(xi_i) for xi_i in xi_auto])\n",
    "fn_mean = np.array([np.mean(om_i) for om_i in omega_n_auto])/2/np.pi\n",
    "xi_std = np.array([np.std(xi_i) for xi_i in xi_auto])\n",
    "fn_std = np.array([np.std(om_i) for om_i in omega_n_auto])/2/np.pi\n",
    "\n",
    "grouped_ixs = koma.clustering.group_array(all_single_ix, group_ixs)\n",
    "grouped_phis = koma.clustering.group_array(phi_used, group_ixs, axis=1)\n",
    "phi_mean = np.vstack([np.mean(phi_i, axis=1) for phi_i in grouped_phis]).T"
   ]
  },
  {
   "cell_type": "code",
   "execution_count": 23,
   "metadata": {},
   "outputs": [
    {
     "data": {
      "text/plain": [
       "array([0.29987612, 0.38392749, 0.38392754, 0.61968127, 0.61968231,\n",
       "       0.82024045, 1.0875541 , 1.22047103, 1.36068959, 1.61746534,\n",
       "       1.93119273, 2.11135723, 2.44782797, 2.56052181, 2.74577981,\n",
       "       2.99192379, 3.32956465, 3.55722866, 4.53539585, 5.66780205,\n",
       "       5.66796279, 6.74360612])"
      ]
     },
     "execution_count": 23,
     "metadata": {},
     "output_type": "execute_result"
    }
   ],
   "source": [
    "fn_mean"
   ]
  },
  {
   "cell_type": "code",
   "execution_count": 32,
   "metadata": {},
   "outputs": [
    {
     "data": {
      "text/plain": [
       "array([0.29987612, 0.38392749, 0.61968127, 0.82024045, 1.0875541 ,\n",
       "       1.22047103, 1.36068959, 1.61746534, 1.93119273, 2.11135723,\n",
       "       2.44782797, 2.56052181, 2.74577981, 2.99192379, 3.32956465,\n",
       "       3.55722866, 4.53539585])"
      ]
     },
     "execution_count": 32,
     "metadata": {},
     "output_type": "execute_result"
    }
   ],
   "source": [
    "fn_mean_2 = np.delete(fn_mean, (2, 4, -2, -1, -3))\n",
    "fn_mean_2"
   ]
  },
  {
   "cell_type": "code",
   "execution_count": 38,
   "metadata": {},
   "outputs": [
    {
     "data": {
      "text/plain": [
       "(57, 17)"
      ]
     },
     "execution_count": 38,
     "metadata": {},
     "output_type": "execute_result"
    }
   ],
   "source": [
    "phi_mean_2 = np.delete(phi_mean, [2, 4, -2, -1, -3], axis=1)\n",
    "\n",
    "phi_mean_2.shape"
   ]
  },
  {
   "cell_type": "code",
   "execution_count": 34,
   "metadata": {},
   "outputs": [
    {
     "data": {
      "text/plain": [
       "array([[ 1.        ,  0.29987612],\n",
       "       [ 2.        ,  0.38392749],\n",
       "       [ 3.        ,  0.61968127],\n",
       "       [ 4.        ,  0.82024045],\n",
       "       [ 5.        ,  1.0875541 ],\n",
       "       [ 6.        ,  1.22047103],\n",
       "       [ 7.        ,  1.36068959],\n",
       "       [ 8.        ,  1.61746534],\n",
       "       [ 9.        ,  1.93119273],\n",
       "       [10.        ,  2.11135723],\n",
       "       [11.        ,  2.44782797],\n",
       "       [12.        ,  2.56052181],\n",
       "       [13.        ,  2.74577981],\n",
       "       [14.        ,  2.99192379],\n",
       "       [15.        ,  3.32956465],\n",
       "       [16.        ,  3.55722866],\n",
       "       [17.        ,  4.53539585]])"
      ]
     },
     "execution_count": 34,
     "metadata": {},
     "output_type": "execute_result"
    }
   ],
   "source": [
    "indexed_freq_ssi = np.zeros((len(fn_mean_2), 2))\n",
    "indexed_freq_ssi[:,0] = np.array([i for i in range(1, len(fn_mean_2) + 1)])\n",
    "indexed_freq_ssi[:,1] = fn_mean_2\n",
    "indexed_freq_ssi"
   ]
  },
  {
   "cell_type": "code",
   "execution_count": 39,
   "metadata": {},
   "outputs": [
    {
     "name": "stderr",
     "output_type": "stream",
     "text": [
      "C:\\Users\\marku\\AppData\\Local\\Temp\\ipykernel_4768\\719714278.py:30: ComplexWarning:\n",
      "\n",
      "Casting complex values to real discards the imaginary part\n",
      "\n"
     ]
    },
    {
     "data": {
      "text/plain": [
       "array([[ 1.10000000e+00,  2.73125099e-02,  9.48690991e-02, ...,\n",
       "         3.58402550e-03,  6.32221310e-03, -9.53374159e-02],\n",
       "       [ 1.20000000e+00,  2.21052150e-01, -7.89744585e-03, ...,\n",
       "        -3.61857204e-04,  1.20312603e-03,  6.79996482e-03],\n",
       "       [ 1.30000000e+00,  1.57142006e-02,  4.64418624e-03, ...,\n",
       "         6.18455877e-03, -5.17556058e-03,  3.24955759e-02],\n",
       "       ...,\n",
       "       [ 2.01000000e+01, -7.00896032e-02,  3.86483425e-03, ...,\n",
       "        -8.00389621e-02, -2.81980452e-02,  3.16718361e-02],\n",
       "       [ 2.02000000e+01,  5.14424204e-01, -2.27331091e-02, ...,\n",
       "        -7.15621879e-02, -1.27903489e-01, -4.04690533e-02],\n",
       "       [ 2.03000000e+01,  1.49008476e-01, -2.79219488e-02, ...,\n",
       "         6.61114747e-01,  1.03507549e-01,  2.57769595e-01]])"
      ]
     },
     "execution_count": 39,
     "metadata": {},
     "output_type": "execute_result"
    }
   ],
   "source": [
    "t1w = phi_mean_2[54:, :]\n",
    "phi_mean_2 = np.append(phi_mean_2, t1w, 0)\n",
    "\n",
    "ind = np.array([\n",
    "    16.1, 16.2, 16.3,\n",
    "    15.1, 15.2, 15.3,\n",
    "    9.1,  9.2,  9.3,\n",
    "    3.1,  3.2,  3.3,\n",
    "    10.1, 10.2, 10.3,\n",
    "    4.1,  4.2,  4.3,\n",
    "    11.1, 11.2, 11.3,\n",
    "    5.1,  5.2,  5.3,\n",
    "    12.1, 12.2, 12.3,\n",
    "    6.1,  6.2,  6.3,\n",
    "    13.1, 13.2, 13.3,\n",
    "    7.1,  7.2,  7.3,\n",
    "    14.1, 14.2, 14.3,\n",
    "    8.1,  8.2,  8.3,\n",
    "    19.1, 19.2, 19.3,\n",
    "    17.1, 17.2, 17.3,\n",
    "    20.1, 20.2, 20.3,\n",
    "    18.1, 18.2, 18.3,\n",
    "    1.1,  1.2,  1.3,\n",
    "    2.1,  2.2,  2.3,\n",
    "])\n",
    "\n",
    "indexed_modes_ssi = np.zeros((60, 18))\n",
    "\n",
    "indexed_modes_ssi[:,0] = ind\n",
    "indexed_modes_ssi[:,1:] = phi_mean_2\n",
    "\n",
    "indexed_modes_ssi = indexed_modes_ssi[indexed_modes_ssi[:, 0].argsort()]\n",
    "\n",
    "indexed_modes_ssi"
   ]
  },
  {
   "cell_type": "code",
   "execution_count": 40,
   "metadata": {},
   "outputs": [
    {
     "data": {
      "text/plain": [
       "(60, 17)"
      ]
     },
     "execution_count": 40,
     "metadata": {},
     "output_type": "execute_result"
    }
   ],
   "source": [
    "ordered_modes_ssi = indexed_modes_ssi[:, 1:]\n",
    "ordered_modes_ssi.shape"
   ]
  },
  {
   "cell_type": "code",
   "execution_count": 29,
   "metadata": {},
   "outputs": [],
   "source": [
    "np.save(\"results/grenland_bridge_frequencies.npy\", indexed_freq_ssi)\n",
    "np.savetxt(\"results/grenland_bridge_frequencies.txt\", indexed_freq_ssi)\n",
    "np.save(\"results/grenland_bridge_modes.npy\", ordered_modes_ssi)\n",
    "np.savetxt(\"results/grenland_bridge_modes.txt\", ordered_modes_ssi)"
   ]
  }
 ],
 "metadata": {
  "kernelspec": {
   "display_name": "base",
   "language": "python",
   "name": "python3"
  },
  "language_info": {
   "codemirror_mode": {
    "name": "ipython",
    "version": 3
   },
   "file_extension": ".py",
   "mimetype": "text/x-python",
   "name": "python",
   "nbconvert_exporter": "python",
   "pygments_lexer": "ipython3",
   "version": "3.11.5"
  }
 },
 "nbformat": 4,
 "nbformat_minor": 2
}
